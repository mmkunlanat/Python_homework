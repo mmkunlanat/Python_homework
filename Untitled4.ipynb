{
 "cells": [
  {
   "cell_type": "code",
   "execution_count": 1,
   "id": "df7a3a7d-e5eb-4ef3-ba25-0e3216275df7",
   "metadata": {
    "tags": []
   },
   "outputs": [
    {
     "name": "stdout",
     "output_type": "stream",
     "text": [
      "5.79\n"
     ]
    }
   ],
   "source": [
    "a = 5.789796\n",
    "print(\"{0:.02f}\".format(a))"
   ]
  },
  {
   "cell_type": "code",
   "execution_count": 3,
   "id": "44b5ca2b-17c3-4270-9a67-eddfd6f8af20",
   "metadata": {
    "tags": []
   },
   "outputs": [
    {
     "ename": "NameError",
     "evalue": "name 'student_list' is not defined",
     "output_type": "error",
     "traceback": [
      "\u001b[1;31m---------------------------------------------------------------------------\u001b[0m",
      "\u001b[1;31mNameError\u001b[0m                                 Traceback (most recent call last)",
      "Cell \u001b[1;32mIn[3], line 1\u001b[0m\n\u001b[1;32m----> 1\u001b[0m \u001b[38;5;28;01mfor\u001b[39;00m student_data \u001b[38;5;129;01min\u001b[39;00m student_list:\n\u001b[0;32m      2\u001b[0m     \u001b[38;5;28;01mif\u001b[39;00m student_data[\u001b[38;5;124m'\u001b[39m\u001b[38;5;124mชื่อ\u001b[39m\u001b[38;5;124m'\u001b[39m] \u001b[38;5;241m==\u001b[39m \u001b[38;5;124m'\u001b[39m\u001b[38;5;124mนายกิตตินันท์\u001b[39m\u001b[38;5;124m'\u001b[39m \u001b[38;5;129;01mand\u001b[39;00m student_data[\u001b[38;5;124m'\u001b[39m\u001b[38;5;124mนามสกุล\u001b[39m\u001b[38;5;124m'\u001b[39m] \u001b[38;5;241m==\u001b[39m \u001b[38;5;124m'\u001b[39m\u001b[38;5;124mสองสอน\u001b[39m\u001b[38;5;124m'\u001b[39m:\n\u001b[0;32m      3\u001b[0m         \u001b[38;5;28mprint\u001b[39m(\u001b[38;5;124m\"\u001b[39m\u001b[38;5;124m นายกิตตินันท์ สองศร:\u001b[39m\u001b[38;5;124m\"\u001b[39m)\n",
      "\u001b[1;31mNameError\u001b[0m: name 'student_list' is not defined"
     ]
    }
   ],
   "source": [
    "\n",
    "for student_data in student_list:\n",
    "    if student_data['ชื่อ'] == 'นายกิตตินันท์' and student_data['นามสกุล'] == 'สองสอน':\n",
    "        print(\" นายกิตตินันท์ สองศร:\")\n",
    "        print( student_data['รหัสนักศึกษา'])\n",
    "        print( student_data['ชื่อ'])\n",
    "        print( student_data['นามสกุล'])\n",
    "        break"
   ]
  },
  {
   "cell_type": "code",
   "execution_count": null,
   "id": "b78a0abf-3ab1-46af-8d60-89563f99b65d",
   "metadata": {},
   "outputs": [],
   "source": []
  }
 ],
 "metadata": {
  "kernelspec": {
   "display_name": "Python 3 (ipykernel)",
   "language": "python",
   "name": "python3"
  },
  "language_info": {
   "codemirror_mode": {
    "name": "ipython",
    "version": 3
   },
   "file_extension": ".py",
   "mimetype": "text/x-python",
   "name": "python",
   "nbconvert_exporter": "python",
   "pygments_lexer": "ipython3",
   "version": "3.11.5"
  }
 },
 "nbformat": 4,
 "nbformat_minor": 5
}
