{
 "cells": [
  {
   "cell_type": "code",
   "execution_count": null,
   "id": "d39767dc-1e25-4f67-975c-1b919549aeb8",
   "metadata": {},
   "outputs": [],
   "source": [
    "1. จงอธิบายความหมายของคำว่า Syntax\n",
    "\"\"\"\n",
    "หลักไวยากรณ์ คือ ข้อกำหนดในการเขียนโปรแกรมที่ตัวแปรภาษาสามารถประมวลผล และเข้าใจได้\n",
    "\"\"\""
   ]
  },
  {
   "cell_type": "code",
   "execution_count": null,
   "id": "e4958c19-06bb-491d-a11a-2dcfda05fe91",
   "metadata": {},
   "outputs": [],
   "source": [
    "2.จงอธิบายความหมายของคำว่า Semantics\n",
    "\"\"\"\n",
    "# คำตอบ\n",
    "Semantics มาจากคeว่า sema. หมายถึง สัญลักษณ์ + semaino หมายถึง การให้ความหมาย รวมกันหมายถึง \n",
    "ความหมายของสัญลักษณ์ คือตัวภาษา ดังนั้น วิชาที่ว่าด้วยการศึกษาความหมายของภาษา หรือ อรรถศาสตร์\n",
    "\"\"\""
   ]
  },
  {
   "cell_type": "code",
   "execution_count": null,
   "id": "15345c6c-1325-4cad-8c48-2c25d69717f2",
   "metadata": {},
   "outputs": [],
   "source": [
    "3.Identifiers คืออะไร\n",
    "\"\"\"\"\n",
    "# คำตอบ\n",
    "identifier หมายถึง ตัวระบุ มันก็คือ “ชื่อ” ที่ใช้แยกสิ่งต่างๆ เหมือนกับที่เรามีชื่อเพื่อระบุได้ว่าใครเป็นใคร หรือบอกได้ว่าของแต่ละชิ้นเรียกว่าอะไร \n",
    "ใน python ก็คือชื่อที่กำหนดให้กับพวก variable, function หรือ class "
   ]
  },
  {
   "cell_type": "code",
   "execution_count": null,
   "id": "e4d33e03-eebf-4eb7-803f-32c341d7d2f2",
   "metadata": {},
   "outputs": [],
   "source": [
    "4.คำสงวนในภาษาไพธอนคืออะไร และมีทั้งหมดกี่คำ\n",
    "\"\"\"\n",
    "คำสงวน คือชื่อหรือคำที่ภาษา Python (ไพทอน) ไว้ใช้เฉพาะเพื่อเป็นคำสั่ง หรือมีไว้เพื่อเขียนเป็นโครงสร้างของตัวภาษาเอง โดยคำสงวนของ Python จะมีทั้งหมด 31 คำ ดังนี้\n",
    "\n",
    "and\tdel\tfrom\tnot\twhile\tas\telif\n",
    "global\tor\twith\tassert\telse\tif\tpass\n",
    "yield\tbreak\texcept\timport\tprint\tclass\texec\n",
    "in\traise\tcontinue\tfinally\tis\treturn\tdef\n",
    "for\tlambda\ttry"
   ]
  },
  {
   "cell_type": "code",
   "execution_count": null,
   "id": "0b543f53-5fba-4d0f-ab18-c71e08fe5546",
   "metadata": {},
   "outputs": [],
   "source": [
    "5.จงเขียนโปรแกรมไพธอนเพื่อรับข้อมูล ที่เป็นชื่อผู้ใช้งานจากแป้นพิมพ์และแสดงออกทางหน้าจอ\n",
    "\"\"\"\n",
    "# พิมพ์โค้ดโปรแกรมด้านล่างนี้\n",
    "a = input(\"your name\")\n",
    "print (a)"
   ]
  },
  {
   "cell_type": "code",
   "execution_count": null,
   "id": "8ceb5091-22b5-4acd-96e5-386940d4a6d6",
   "metadata": {},
   "outputs": [],
   "source": [
    "\n",
    "# พิมพ์โค้ดโปรแกรมด้านล่างนี้\n",
    "a = input(\"your name\")\n",
    "print (a)"
   ]
  },
  {
   "cell_type": "code",
   "execution_count": 1,
   "id": "8aa4e554",
   "metadata": {
    "tags": []
   },
   "outputs": [
    {
     "name": "stdout",
     "output_type": "stream",
     "text": [
      "pi: 3\n",
      "pi: 3.14\n",
      "pi: 3.1416\n"
     ]
    }
   ],
   "source": [
    "# พิมพ์โค้ดโปรแกรมด้านล่างนี้\n",
    "pi = 3.14159\n",
    "pi = 3\n",
    "print(\"pi: {0:.0f}\".format(pi))\n",
    "pi = 3.14\n",
    "print(\"pi: {0:.2f}\".format(pi))\n",
    "pi = 3.1416\n",
    "print(\"pi: {0:.4f}\".format(pi))"
   ]
  },
  {
   "cell_type": "code",
   "execution_count": 16,
   "id": "947fd063-f0b1-4cd2-be91-06bf57d97aca",
   "metadata": {
    "tags": []
   },
   "outputs": [
    {
     "name": "stdout",
     "output_type": "stream",
     "text": [
      "pi: 3\n",
      "pi: 3.14\n",
      "pi: 3.1416\n"
     ]
    }
   ],
   "source": [
    "# พิมพ์โค้ดโปรแกรมด้านล่างนี้\n",
    "pi = 3.14159\n",
    "pi = 3\n",
    "print(\"pi: {0:.0f}\".format(pi))\n",
    "pi = 3.14\n",
    "print(\"pi: {0:.2f}\".format(pi))\n",
    "pi = 3.1416\n",
    "print(\"pi: {0:.4f}\".format(pi))"
   ]
  },
  {
   "cell_type": "code",
   "execution_count": null,
   "id": "f45873c5-0a96-43dc-a0c4-379d99b00363",
   "metadata": {},
   "outputs": [],
   "source": [
    "7. จงเขียนโปรแกรมที่แสดงคำว่า \"dog\", \"cat\", \"bat\" ออกทางหน้าจอ โดยกำหนดรูปแบบในการแสดงดังต่อไปนี้\n",
    "\"\"\" \n",
    "|dog       |   cat    |       bat| \n",
    "\"\"\""
   ]
  },
  {
   "cell_type": "code",
   "execution_count": 20,
   "id": "92f960b3-ebb5-4423-b00d-434530f4055c",
   "metadata": {
    "tags": []
   },
   "outputs": [
    {
     "name": "stdout",
     "output_type": "stream",
     "text": [
      "|dog       |   cat    |       bat|\n"
     ]
    }
   ],
   "source": [
    "# พิมพ์โค้ดโปรแกรมด้านล่างนี้\n",
    "print(\"|{0:<10}|{1:^10}|{2:>10}|\".format(\"dog\",\"cat\",\"bat\"))\n"
   ]
  },
  {
   "cell_type": "code",
   "execution_count": null,
   "id": "9262ab8e-bed9-49b1-9539-69e9ebb94e4b",
   "metadata": {},
   "outputs": [],
   "source": [
    "8. จงเขียนโปรแกรมที่แสดงคำว่า \"dog\", \"cat\", \"bat\" ออกทางหน้าจอ โดยกำหนดรูปแบบในการแสดงดังต่อไปนี้\n",
    "\"\"\"\n",
    "|dog*******|***cat****|*******bat| \n",
    "\"\"\""
   ]
  },
  {
   "cell_type": "code",
   "execution_count": 29,
   "id": "85b8cc1c-a6c1-4ebd-95a1-fcad80536dec",
   "metadata": {
    "tags": []
   },
   "outputs": [
    {
     "name": "stdout",
     "output_type": "stream",
     "text": [
      "|dog*******|***cat****|*******bat|\n"
     ]
    }
   ],
   "source": [
    "print(\"|{0:*<10}|{1:*^10}|{2:*>10}|\".format(\"dog\",\"cat\",\"bat\"))"
   ]
  },
  {
   "cell_type": "code",
   "execution_count": null,
   "id": "5db679f6-4ec0-4fd7-be8b-fdd1b3a07cc1",
   "metadata": {},
   "outputs": [],
   "source": [
    "9.ประเภทของตัวเลขที่ภาษาไพธอนให้การรองรับมีอะไรบ้าง\n",
    "\"\"\"\n",
    "คำตอบ\n",
    "1.int\n",
    "2.long ใน Python 3 ข้อมูลชนิด long ถูกตัดออกไป\n",
    "3.float\n",
    "4.complex\n",
    "\"\"\""
   ]
  },
  {
   "cell_type": "code",
   "execution_count": null,
   "id": "d9d30911-8a63-4921-bd8c-e49c3d06ff72",
   "metadata": {},
   "outputs": [],
   "source": [
    "10.จงแสดงชนิดข้อมูลของตัวแปร a และ b\n",
    "\"\"\"\n",
    "a = 15.50\n",
    "b = ‘Python’ \n",
    "จงแสดงชนิดข้อมูลของตัวแปร a และ b\n",
    "\"\"\""
   ]
  },
  {
   "cell_type": "code",
   "execution_count": 32,
   "id": "0c057051-01a4-4e4d-b343-2a33c6ca7a8f",
   "metadata": {
    "tags": []
   },
   "outputs": [
    {
     "name": "stdout",
     "output_type": "stream",
     "text": [
      "a = <class 'float'>\n",
      "b = <class 'str'>\n"
     ]
    }
   ],
   "source": [
    "\"\"\"\n",
    "คำตอบ\n",
    "\"\"\"\n",
    "print('a =',type(15.50))\n",
    "print('b =',type('Python'))\n"
   ]
  },
  {
   "cell_type": "code",
   "execution_count": null,
   "id": "856de0da-5242-47ee-8823-d8336400f9c7",
   "metadata": {},
   "outputs": [],
   "source": [
    "11.จงใช้คำสั่ง print() เพื่อแสดงสตริงต่อไปนี้\n",
    "Jane's teacher says \"You have to study hard\" –"
   ]
  },
  {
   "cell_type": "code",
   "execution_count": 33,
   "id": "26b2a8f5-b3bc-4cea-8a00-29235a4939f9",
   "metadata": {
    "tags": []
   },
   "outputs": [
    {
     "name": "stdout",
     "output_type": "stream",
     "text": [
      "Jane's teacher says \"You have to study hard\" –\n"
     ]
    }
   ],
   "source": [
    "\"\"\"\n",
    "คำตอบ\n",
    "\n",
    "\"\"\"\n",
    "print(\"Jane's teacher says \\\"You have to study hard\\\" –\")\n"
   ]
  },
  {
   "cell_type": "code",
   "execution_count": null,
   "id": "ae7a5025-108d-4d4c-8be0-be0cc981b2f6",
   "metadata": {},
   "outputs": [],
   "source": [
    "12. จงแสดงผลลัพธ์ของคำสั่งต่อไปนี้\n",
    "\"\"\"\n",
    "print(\"{2} {0} {1}\".format(\"apple\", \n",
    "         \"pineapple\", \n",
    "         \"banana\"))\n",
    "\"\"\""
   ]
  },
  {
   "cell_type": "code",
   "execution_count": 37,
   "id": "cc9e2377-f991-4800-be6d-fe0a389dbbd4",
   "metadata": {
    "tags": []
   },
   "outputs": [
    {
     "name": "stdout",
     "output_type": "stream",
     "text": [
      "banana apple pineapple\n"
     ]
    }
   ],
   "source": [
    "print(\"{2} {0} {1}\".format(\"apple\", \n",
    "         \"pineapple\", \n",
    "         \"banana\"))"
   ]
  },
  {
   "cell_type": "code",
   "execution_count": null,
   "id": "aa220ace-c806-4073-845e-9b9c18544aa7",
   "metadata": {},
   "outputs": [],
   "source": [
    "13. กำหนดให้ตัวแปร\n",
    "\"\"\"\n",
    "pi = 3.141592653589\n",
    "จงแสดงค่าของตัวแปร pi ออกทางหน้าจอให้มีทศนิยมเพียง 3 จุด\n",
    "\"\"\""
   ]
  },
  {
   "cell_type": "code",
   "execution_count": null,
   "id": "c25a573b-8942-4b61-99bb-b65e353eb119",
   "metadata": {},
   "outputs": [],
   "source": [
    "\"\"\"\n",
    "คำตอบ\n",
    "\"\"\"\n",
    "pi = 3.141592653589\n",
    "print('{0:.3f}'.format(pi))\n"
   ]
  },
  {
   "cell_type": "code",
   "execution_count": null,
   "id": "1098868b-98ee-4965-a71e-ed770194b28e",
   "metadata": {},
   "outputs": [],
   "source": [
    "14. กำหนดให้\n",
    "str = \"Python Programming\"\n",
    "\n",
    "จงหาผลลัพธ์ของ str[7:]"
   ]
  },
  {
   "cell_type": "code",
   "execution_count": 41,
   "id": "cdadd51f-8884-4b1b-a6ec-c5c81ca416e7",
   "metadata": {
    "tags": []
   },
   "outputs": [
    {
     "data": {
      "text/plain": [
       "'Programming'"
      ]
     },
     "execution_count": 41,
     "metadata": {},
     "output_type": "execute_result"
    }
   ],
   "source": [
    "\"\"\"\n",
    "คำตอบ\n",
    "\"\"\"\n",
    "str = \"Python Programming\"\n",
    "str[7:]\n"
   ]
  },
  {
   "cell_type": "code",
   "execution_count": null,
   "id": "6e214248-a66f-466b-9b1f-af8d39987cda",
   "metadata": {},
   "outputs": [],
   "source": [
    "15. จงอธิบายความแตกต่างระหว่างลิสต์และทัพเพิล\n",
    "\"\"\"\n",
    "คำตอบ\n",
    "\n",
    "ลิสต์ คือถังขยะข้อมูลที่สามารถแก้ไขได้\n",
    "ทัพเพิล คือถังขยะข้อมูลที่ไม่สามาถแก้ไขได้\n",
    "\"\"\""
   ]
  },
  {
   "cell_type": "code",
   "execution_count": null,
   "id": "ec4da03d-c6dd-4ec5-9a79-4b1863be1616",
   "metadata": {},
   "outputs": [],
   "source": [
    "16. จงแปลงนิพจน์ทางคณิตศาสตร์ให้เป็นโปรแกรม"
   ]
  },
  {
   "cell_type": "code",
   "execution_count": 44,
   "id": "0d603741-0e27-442a-b28e-fc3836c53bbd",
   "metadata": {
    "tags": []
   },
   "outputs": [
    {
     "data": {
      "text/plain": [
       "78.5"
      ]
     },
     "execution_count": 44,
     "metadata": {},
     "output_type": "execute_result"
    }
   ],
   "source": [
    "#คำตอบ\n",
    "\n",
    "pi = 3.14\n",
    "r = 5\n",
    "\n",
    "a = pi * (r**2)\n",
    "a"
   ]
  },
  {
   "cell_type": "code",
   "execution_count": null,
   "id": "0da96f2f-e292-49bf-8086-9d1a2edd2e0f",
   "metadata": {},
   "outputs": [],
   "source": [
    "17. จงแปลงนิพจน์ทางคณิตศาสตร์ให้เป็นโปรแกรม"
   ]
  },
  {
   "cell_type": "code",
   "execution_count": 45,
   "id": "4171ac67-ffee-432b-8419-80f9f53f1dab",
   "metadata": {
    "tags": []
   },
   "outputs": [
    {
     "data": {
      "text/plain": [
       "8"
      ]
     },
     "execution_count": 45,
     "metadata": {},
     "output_type": "execute_result"
    }
   ],
   "source": [
    "#คำตอบ\n",
    "\n",
    "a = b = c = 2\n",
    "c = (a**2) + (b**2)\n",
    "c"
   ]
  },
  {
   "cell_type": "code",
   "execution_count": null,
   "id": "9dabaa11-ab10-4a06-82ed-8074fdf28918",
   "metadata": {},
   "outputs": [],
   "source": [
    "18. จงแปลงนิพจน์ทางคณิตศาสตร์ให้เป็นโปรแกรม"
   ]
  },
  {
   "cell_type": "code",
   "execution_count": 47,
   "id": "349e4cfd-40c4-41b0-b39b-86dde9f4f307",
   "metadata": {
    "tags": []
   },
   "outputs": [
    {
     "data": {
      "text/plain": [
       "92"
      ]
     },
     "execution_count": 47,
     "metadata": {},
     "output_type": "execute_result"
    }
   ],
   "source": [
    "#คำตอบ\n",
    "import math\n",
    "\n",
    "a = 1\n",
    "b = 10\n",
    "c = 2\n",
    "\n",
    "x= (b**2)-(4*a*c)\n",
    "\n",
    "result = math.sqrt(x) / 2*a\n",
    "\n",
    "x\n"
   ]
  },
  {
   "cell_type": "code",
   "execution_count": null,
   "id": "07f43be7-ced8-4c24-b639-debe119df4d2",
   "metadata": {},
   "outputs": [],
   "source": [
    "19. จงแปลงนิพจน์ทางคณิตศาสตร์ให้เป็นโปรแกรม"
   ]
  },
  {
   "cell_type": "code",
   "execution_count": null,
   "id": "9dc72569-a84d-4e44-8be4-e41601dba315",
   "metadata": {},
   "outputs": [],
   "source": [
    "#คำตอบ\n",
    "\n",
    "import math\n",
    " \n",
    "b = c = d =5\n",
    "\n",
    "a = (b**2) *d\n",
    "\n",
    "result = math.sqrt(a) / c\n",
    "\n",
    "a"
   ]
  },
  {
   "cell_type": "code",
   "execution_count": null,
   "id": "ce468222-6221-4247-8cc0-991aa2b75e79",
   "metadata": {},
   "outputs": [],
   "source": [
    "20. จงแปลงนิพจน์ทางคณิตศาสตร์ให้เป็นโปรแกรม"
   ]
  },
  {
   "cell_type": "code",
   "execution_count": 46,
   "id": "62c4dc59-3c79-40c9-b10e-cda49fde4480",
   "metadata": {
    "tags": []
   },
   "outputs": [
    {
     "data": {
      "text/plain": [
       "28"
      ]
     },
     "execution_count": 46,
     "metadata": {},
     "output_type": "execute_result"
    }
   ],
   "source": [
    "# คำตอบ\n",
    "b = 2\n",
    "a = b**2 * (5+2)\n",
    "a\n"
   ]
  },
  {
   "cell_type": "code",
   "execution_count": null,
   "id": "17216a7e-0010-48b1-9c63-5c4d4b7748d0",
   "metadata": {},
   "outputs": [],
   "source": [
    "แบบฝึกหัดเพิ่มเติม\n",
    "ดังนั้นเพื่อความปลอดภัย เราจึงนิยมเขียนเครื่องหมายยกกำลัง ** ติดกับตัวเลข เพื่อให้เป็นที่รู้กันว่า ถ้าหากไม่มีวงเล็บ \n",
    "เราจะเริ่มทำจากเครื่องหมายยกกำลังก่อนเสมอ เช่น เราจะเขียนนิพจน์  2×53\n",
    "  ด้วยคำสั่ง 2 * 5**3 เป็นต้น\n",
    "นอกจากนี้เรายังสามารถคำนวณค่าราก (root) ได้โดยการใช้สูตร:\n",
    "𝑎⎯⎯√𝑟=𝑎1/𝑟\n",
    " \n",
    "เช่น เราสามารถคำนวณค่า  8⎯⎯√3\n",
    "  (รากที่ 3 ของ 8) ได้โดยคำสั่ง 8**(1/3)"
   ]
  },
  {
   "cell_type": "code",
   "execution_count": null,
   "id": "aafd2c97-1217-45aa-9a89-b736e8afb943",
   "metadata": {},
   "outputs": [],
   "source": [
    "8**(1/3)"
   ]
  },
  {
   "cell_type": "markdown",
   "id": "7fd8ccd5-df89-49bf-8aef-75e2622636c3",
   "metadata": {},
   "source": [
    "เรามาลองคำนวณค่าของนิพจน์ทางคณิตศาสตร์ต่อไปนี้กันครับ\n",
    "\n",
    "1. $ 3 \\times (4 + 1 - 2 \\times 5) $"
   ]
  },
  {
   "cell_type": "code",
   "execution_count": null,
   "id": "91fca805-57da-406f-a8cc-aeb35ed1f6b6",
   "metadata": {},
   "outputs": [],
   "source": [
    "3*(4+1-2*5)"
   ]
  },
  {
   "cell_type": "markdown",
   "id": "a7f0f0c9-bd5b-4535-a38e-5100999cc80b",
   "metadata": {},
   "source": [
    "2. $ \\frac{1 + 2 + 3}{4 + 5 + 6} $   [**หมายเหตุ:** โปรดเลือกการใช้เครื่องหมายวงเล็บด้วยความระมัดระวัง]"
   ]
  },
  {
   "cell_type": "code",
   "execution_count": null,
   "id": "cf8d46c1-c1d1-4c08-abb0-7ab095e026b2",
   "metadata": {},
   "outputs": [],
   "source": [
    "(1+2+3) / (4+5+6)"
   ]
  },
  {
   "cell_type": "markdown",
   "id": "00f230c5-13db-413b-aec6-2227c2e2eb0a",
   "metadata": {},
   "source": [
    "3. $ 7 \\times \\frac{5 + 6}{7 + \\frac{7}{8}} $"
   ]
  },
  {
   "cell_type": "code",
   "execution_count": null,
   "id": "b6699a59-cf98-44f6-b0ac-045cc7c02885",
   "metadata": {},
   "outputs": [],
   "source": [
    "7*((5+6) / (7+(7/8)))"
   ]
  },
  {
   "cell_type": "markdown",
   "id": "6e4646ba-964c-4da1-945d-5e191f8d9d92",
   "metadata": {},
   "source": [
    "เรามาคำนวณค่าของนิพจน์ดังต่อไปนี้กันครับ\n",
    "\n",
    "4. $ 3^{5 + 3/4} $"
   ]
  },
  {
   "cell_type": "code",
   "execution_count": null,
   "id": "521f6a04-2eee-44f1-ab2b-34cd0fb503e3",
   "metadata": {},
   "outputs": [],
   "source": [
    "3**5 + (3/4)"
   ]
  },
  {
   "cell_type": "markdown",
   "id": "badf6a98-e5e6-4b73-ad2d-bb84cd6d9ddb",
   "metadata": {},
   "source": [
    "5. $ \\sqrt[3]{\\left( 7 + 3 \\times 4 \\right)} $"
   ]
  },
  {
   "cell_type": "code",
   "execution_count": null,
   "id": "a2823d1e-8a28-417c-a77b-fed139d2a207",
   "metadata": {},
   "outputs": [],
   "source": [
    "result = (7+3) *4\n",
    "result**(1/3)"
   ]
  },
  {
   "cell_type": "markdown",
   "id": "ce7abb64-01c0-40f5-8835-ad8cc71ed707",
   "metadata": {},
   "source": [
    "6. $ \\frac{5 + 6^{2.5}}{\\sqrt[2]{3.5}} + 3^2 $"
   ]
  },
  {
   "cell_type": "code",
   "execution_count": 5,
   "id": "ac272f8a-aa63-4d8d-b19c-08a3e0c45dce",
   "metadata": {
    "tags": []
   },
   "outputs": [
    {
     "ename": "NameError",
     "evalue": "name 'math' is not defined",
     "output_type": "error",
     "traceback": [
      "\u001b[1;31m---------------------------------------------------------------------------\u001b[0m",
      "\u001b[1;31mNameError\u001b[0m                                 Traceback (most recent call last)",
      "Cell \u001b[1;32mIn[5], line 1\u001b[0m\n\u001b[1;32m----> 1\u001b[0m ((\u001b[38;5;241m5\u001b[39m\u001b[38;5;241m+\u001b[39m\u001b[38;5;241m6\u001b[39m\u001b[38;5;241m*\u001b[39m\u001b[38;5;241m*\u001b[39m\u001b[38;5;241m2.5\u001b[39m) \u001b[38;5;241m/\u001b[39m math\u001b[38;5;241m.\u001b[39msqrt(\u001b[38;5;241m3.5\u001b[39m)) \u001b[38;5;241m+\u001b[39m \u001b[38;5;241m3\u001b[39m\u001b[38;5;241m*\u001b[39m\u001b[38;5;241m*\u001b[39m\u001b[38;5;241m2\u001b[39m\n",
      "\u001b[1;31mNameError\u001b[0m: name 'math' is not defined"
     ]
    }
   ],
   "source": [
    "((5+6**2.5) / math.sqrt(3.5)) + 3**2"
   ]
  },
  {
   "cell_type": "code",
   "execution_count": null,
   "id": "4e7389ea-cd3c-4283-a8d4-1d2bb49be725",
   "metadata": {},
   "outputs": [],
   "source": []
  },
  {
   "cell_type": "markdown",
   "id": "d865034e-7616-48a2-a1b0-d491576bbbd4",
   "metadata": {},
   "source": [
    "## 1.\tจงเขียนโปรแกรมเพื่อให้ได้ผลลัพธ์ดังต่อไปนี้\n",
    "\n",
    "เพื่อให้ผู้ใช้ป้อนเลขจำนวนเต็ม 3 ค่า ประกอบไปด้วย : (f)rom, (t)o และ (i)ncrement \n",
    "\n",
    "โดยโปรแกรมรับค่าทั้ง 3 เข้ามาเพื่อทำการคำนวณเพื่อสร้างเลขลำดับโดยเริ่มต้นจาก f ไปจนถึง t \n",
    "\n",
    "และจะเพิ่มจำนวนตามค่า i เช่นถ้า input เป็น f == 2, t == 26 และ i == 4 โปรแกรมจะแสดงผล: 2, 6, 10, 14, 18, 22, 26"
   ]
  },
  {
   "cell_type": "code",
   "execution_count": 8,
   "id": "474341bc-32de-49cf-90ba-13ad0d38da7c",
   "metadata": {
    "tags": []
   },
   "outputs": [
    {
     "name": "stdin",
     "output_type": "stream",
     "text": [
      "Enter from:  2\n",
      "Enter to:  26\n",
      "Enter increment:  4\n"
     ]
    },
    {
     "name": "stdout",
     "output_type": "stream",
     "text": [
      "[2, 6, 10, 14, 18, 22, 26]\n"
     ]
    }
   ],
   "source": [
    "\"\"\"\n",
    "คำตอบ\n",
    "\"\"\"\n",
    "f = int(input (\"Enter from: \"))\n",
    "t = int(input(\"Enter to: \"))\n",
    "i = int(input(\"Enter increment: \"))\n",
    "\n",
    "lt = list(range(f, t+1, i))\n",
    "print((lt))"
   ]
  },
  {
   "cell_type": "markdown",
   "id": "4f6db295-0b5b-4510-80a0-96599e2fed9b",
   "metadata": {},
   "source": [
    "## 2.จงเขียนโปรแกรมเพื่อให้ได้ผลลัพธ์ดังต่อไปนี้\n",
    "\n",
    "จงเขียนโปรแกรมเพื่อหาจำนวนแฟกทอเรียล (Factorial) โดยใช้การวนซ้ำ \n",
    "\n",
    "โดยกำหนดให้ผู้ใช้ป้อนค่าจำนวนเต็ม 1 ตัวและนำค่านั้นมาหาค่าแฟกทอเรียล เช่น input = 5 \n",
    "\n",
    "โปรแกรมจะทำการคำนวณ 5 * 4 * 3 * 2 * 1 เท่ากับ 12"
   ]
  },
  {
   "cell_type": "code",
   "execution_count": 1,
   "id": "2f125571-b7de-4cc1-aa69-702343c2ab48",
   "metadata": {
    "tags": []
   },
   "outputs": [
    {
     "name": "stdin",
     "output_type": "stream",
     "text": [
      "Enter Number :  5\n"
     ]
    },
    {
     "name": "stdout",
     "output_type": "stream",
     "text": [
      "Your Factorial :  120\n"
     ]
    }
   ],
   "source": [
    "\"\"\"\n",
    "คำตอบ\n",
    "\"\"\"\n",
    "fact = int(input(\"Enter Number : \"))\n",
    "output = 1\n",
    "for i in range(1,fact+1):\n",
    "    output *= i\n",
    "print(\"Your Factorial : \",output)"
   ]
  },
  {
   "cell_type": "markdown",
   "id": "b501e768-bc5f-4263-afa1-684ecd1b7278",
   "metadata": {},
   "source": [
    "## 3.จงเขียนโปรแกรมเพื่อให้ได้ผลลัพธ์ดังต่อไปนี้\n",
    "\n",
    "ทำเขียนโปรแกรมโดยใช้การทำงานวนซ้ำ เพื่อค้นหาจำนวนเฉพาะที่อยู่ในช่วงตัวเลข 1 จนถึง 100 \n",
    "\n",
    "และทำการแสดงผลจำนวนเฉพาะทั้งหมดที่ค้นพบในช่วงตัวเลขออกมาทางหน้าจอ"
   ]
  },
  {
   "cell_type": "markdown",
   "id": "7598cf76-0d6b-42dd-ae9a-fb6e507ec838",
   "metadata": {},
   "source": [
    "## 4.\tจงเขียนโปรแกรมเพื่อให้ได้ผลลัพธ์ดังต่อไปนี้ "
   ]
  },
  {
   "cell_type": "code",
   "execution_count": 3,
   "id": "bd5ef957-2659-4bb5-8e3b-e748b309055e",
   "metadata": {
    "tags": []
   },
   "outputs": [
    {
     "name": "stdout",
     "output_type": "stream",
     "text": [
      "1\n",
      "2\n",
      "3\n",
      "5\n",
      "7\n",
      "11\n",
      "13\n",
      "17\n",
      "19\n",
      "23\n",
      "29\n",
      "31\n",
      "37\n",
      "41\n",
      "43\n",
      "47\n",
      "53\n",
      "59\n",
      "61\n",
      "67\n",
      "71\n",
      "73\n",
      "79\n",
      "83\n",
      "89\n",
      "97\n"
     ]
    }
   ],
   "source": [
    "\"\"\"\n",
    "คำตอบ\n",
    "1. สร้างชุดตัวเลขในช่วง 1 - 100\n",
    "2. กำหนดตัวแปร flag ให้มีค่าเป็นจริง เพื่อใช้ตรวจสอบว่าค่า i เป็นจำนวนเฉพาะหรือไม่\n",
    "3. สร้างชุดตัวเลข j ที่อยู่ในช่วง 2 - i\n",
    "4. นำ i มา mod ด้วย j\n",
    "    - ถ้า i mod j ได้ลงตัว แสดงว่า i ไม่ใช่จำนวนเฉพาะ\n",
    "    - กำหนดให้ flag มีค่าเป็น เท็จ\n",
    "5. ทำการตรวจสอบ flag ถ้า flag ยังเป็นจริงอยู่แสดงว่า i เป็นจำนวนเฉพาะ\n",
    "\"\"\"\n",
    "for i in range(1,101):\n",
    "    flag = True\n",
    "    for j in range(2,i):\n",
    "        if i%j==0 and j!=i:\n",
    "            flag = False\n",
    "    if flag == True:\n",
    "        print(i)"
   ]
  },
  {
   "cell_type": "code",
   "execution_count": 8,
   "id": "f9f43738-c9cf-43ba-8ae2-bb71739d050e",
   "metadata": {
    "tags": []
   },
   "outputs": [
    {
     "name": "stdout",
     "output_type": "stream",
     "text": [
      "*\n",
      "**\n",
      "***\n",
      "****\n",
      "*****\n",
      "****\n",
      "***\n",
      "**\n",
      "*\n"
     ]
    }
   ],
   "source": [
    "i = \"*\"\n",
    "for i in range(1,5):\n",
    "    print(\"*\" *i)\n",
    "for j in range(5,0,-1):\n",
    "    print(\"*\" *j)\n",
    "    "
   ]
  },
  {
   "cell_type": "markdown",
   "id": "f1155211-1776-4463-82c6-e49b470bccc7",
   "metadata": {},
   "source": [
    "## 5. จงเขียนโปรแกรมเพื่อให้ได้ผลลัพธ์ดังต่อไปนี้ \n",
    "\n",
    "จงเขียนโปรแกรมที่พิมพ์ตัวเลขตั้งแต่ 1 ถึง 100 ยกเว้นตัวเลขที่หารด้วย 3 ลงตัว \n",
    "\n",
    "โดยให้ใช้คำสั่ง continue เช่น 1 2 4 5 7 8 10 11 … เป็นต้น"
   ]
  },
  {
   "cell_type": "code",
   "execution_count": 9,
   "id": "e6b79980-6d6f-4b45-9a25-434414e3b290",
   "metadata": {
    "tags": []
   },
   "outputs": [
    {
     "name": "stdout",
     "output_type": "stream",
     "text": [
      "1\n",
      "2\n",
      "4\n",
      "5\n",
      "7\n",
      "8\n",
      "10\n",
      "11\n",
      "13\n",
      "14\n",
      "16\n",
      "17\n",
      "19\n",
      "20\n",
      "22\n",
      "23\n",
      "25\n",
      "26\n",
      "28\n",
      "29\n",
      "31\n",
      "32\n",
      "34\n",
      "35\n",
      "37\n",
      "38\n",
      "40\n",
      "41\n",
      "43\n",
      "44\n",
      "46\n",
      "47\n",
      "49\n",
      "50\n",
      "52\n",
      "53\n",
      "55\n",
      "56\n",
      "58\n",
      "59\n",
      "61\n",
      "62\n",
      "64\n",
      "65\n",
      "67\n",
      "68\n",
      "70\n",
      "71\n",
      "73\n",
      "74\n",
      "76\n",
      "77\n",
      "79\n",
      "80\n",
      "82\n",
      "83\n",
      "85\n",
      "86\n",
      "88\n",
      "89\n",
      "91\n",
      "92\n",
      "94\n",
      "95\n",
      "97\n",
      "98\n",
      "100\n"
     ]
    }
   ],
   "source": [
    "\"\"\"\n",
    "คำตอบ\n",
    "\"\"\"\n",
    "for i in range(1, 101):\n",
    "    if i % 3 == 0:\n",
    "        continue\n",
    "    print(i)"
   ]
  },
  {
   "cell_type": "code",
   "execution_count": 11,
   "id": "a928d31a-b01e-4395-a7e6-9920f1362598",
   "metadata": {
    "tags": []
   },
   "outputs": [
    {
     "name": "stdout",
     "output_type": "stream",
     "text": [
      "1\n",
      "3\n",
      "5\n",
      "7\n",
      "9\n",
      "11\n",
      "13\n",
      "15\n",
      "17\n",
      "19\n",
      "21\n",
      "23\n",
      "25\n",
      "27\n",
      "29\n",
      "31\n",
      "33\n",
      "35\n",
      "37\n",
      "39\n",
      "41\n",
      "43\n",
      "45\n",
      "47\n",
      "49\n"
     ]
    }
   ],
   "source": [
    "# จงแสดงเลขคี่ ในช่วงจำนวน 1-50\n",
    "for i in range(1, 51):\n",
    "    if i % 2 != 0:\n",
    "        print(i)"
   ]
  },
  {
   "cell_type": "code",
   "execution_count": null,
   "id": "5fe7ca8a-eebf-457c-b2f3-8513fcda388a",
   "metadata": {},
   "outputs": [],
   "source": []
  },
  {
   "cell_type": "markdown",
   "id": "8181dbc9-f138-41d5-bc14-845839510dae",
   "metadata": {},
   "source": [
    "## 6.จงเขียนโปรแกรมเพื่อให้ได้ผลลัพธ์ดังต่อไปนี้\n",
    "\n",
    "จงเขียนโปรแกรมที่แสดงเลขจำนวน 1 ถึง 50 โดยสำหรับเลขจำนวนใดที่หารด้วย 3 ลงตัวให้พิมพ์ Fizz \n",
    "\n",
    "และเลขจำนวนใดที่หารด้วย 5 ลงตัวให้พิมพ์ Buzz และเลขใดที่หารลงตัวทั้ง 3 และ 5 ให้พิมพ์ FizzBuzz "
   ]
  },
  {
   "cell_type": "code",
   "execution_count": null,
   "id": "371b87a8-06d8-49dc-8bd9-76d091256a7e",
   "metadata": {},
   "outputs": [],
   "source": [
    "\"\"\"\n",
    "เช่น\n",
    "\n",
    "1\n",
    "2\n",
    "Fizz\n",
    "4\n",
    "Buzz\n",
    "\n",
    "---------\n",
    "คำตอบ\n",
    "\"\"\"\n",
    "for i in range(1, 51):\n",
    "    if i % 3 == 0 and i % 5 == 0:\n",
    "        print(\"FizzBuzz\")\n",
    "    elif i % 5 == 0:\n",
    "         print(\"Buzz\")\n",
    "    elif i % 3 == 0:\n",
    "         print(\"Fizz\") \n",
    "    else:\n",
    "        print(i)"
   ]
  },
  {
   "cell_type": "markdown",
   "id": "39e3d234-7cf3-4b07-b8bf-621f0d0e4a2b",
   "metadata": {},
   "source": [
    "## 7.จงเขียนโปรแกรมเพื่อให้ได้ผลลัพธ์ดังต่อไปนี้\n",
    "\n",
    "จงเขียนโปรแกรมเพื่อแสดงรูปแบบต่อไปนี้ โดยการรับค่าจำนวนสูงสุดจากผู้ใช้"
   ]
  },
  {
   "cell_type": "code",
   "execution_count": null,
   "id": "d734a43a-444f-458c-a00c-0ac93a7160db",
   "metadata": {},
   "outputs": [],
   "source": [
    "\"\"\"\n",
    "ป้อนเลข 9\n",
    "\n",
    "1\n",
    "22\n",
    "333\n",
    "4444\n",
    "55555\n",
    "666666\n",
    "7777777\n",
    "88888888\n",
    "999999999\n",
    "\n",
    "คำตอบ\n",
    "\"\"\"\n",
    "num = int(input(\"Enter value : \"))+i\n",
    "for i in range(1, num):\n",
    "    print(str(i) * i)"
   ]
  },
  {
   "cell_type": "code",
   "execution_count": null,
   "id": "262d901e-8b89-4b33-bad0-80ca740882e7",
   "metadata": {},
   "outputs": [],
   "source": []
  },
  {
   "cell_type": "markdown",
   "id": "944f25f8-0e2f-48fd-8e64-7cbaf09ef097",
   "metadata": {},
   "source": [
    "## 1.จงเขียนฟังก์ชันเพื่อหาผลรวมของข้อมูลสมาชิกภายในลิสต์ เช่น"
   ]
  },
  {
   "cell_type": "code",
   "execution_count": 1,
   "id": "b9e0a6d3-b561-4172-a81c-aa25c6f7ddc9",
   "metadata": {
    "tags": []
   },
   "outputs": [
    {
     "name": "stdout",
     "output_type": "stream",
     "text": [
      "20\n"
     ]
    }
   ],
   "source": [
    "\"\"\"\n",
    "Sample List: (8, 2, 3, 0, 7)\n",
    "Expected Output: 20\n",
    "\"\"\"\n",
    "\n",
    "\"\"\"\n",
    "คำตอบ\n",
    "\"\"\"\n",
    "def sumList(lt):\n",
    "    return sum(lt)\n",
    "    \n",
    "x  = [8, 2, 3, 0, 7]\n",
    "\n",
    "print(sumList(x))"
   ]
  },
  {
   "cell_type": "markdown",
   "id": "4e2bd423-1fa9-45b2-8151-ebb9d5c9bf8b",
   "metadata": {},
   "source": [
    "## 2.จงเขียนโปรแกรมเพื่อให้ได้ผลลัพธ์ดังต่อไปนี้\n",
    "\n",
    "จงเขียนฟังก์ชันที่ทำหน้าที่กลับสตริงจากหน้าเป็นหลัง \n",
    "\n",
    "โดยมีการส่งอาร์กิวเมนต์ที่เป็นสติงไปให้ฟังก์ชันทำงาน เช่น"
   ]
  },
  {
   "cell_type": "code",
   "execution_count": 2,
   "id": "92fff002-547b-4c52-9130-70f5b3b089a2",
   "metadata": {
    "tags": []
   },
   "outputs": [
    {
     "name": "stdout",
     "output_type": "stream",
     "text": [
      "dcba4321\n"
     ]
    }
   ],
   "source": [
    "\"\"\"\n",
    "Argument String: \"1234abcd\"\n",
    "Expected Output: \"dcba4321\"\n",
    "\"\"\"\n",
    "\n",
    "\"\"\"\n",
    "คำตอบ\n",
    "\"\"\"\n",
    "\n",
    "def reverseStr(instr):\n",
    "    print(\"{}\".format(instr[::-1]))\n",
    "\n",
    "a = \"1234abcd\"\n",
    "reverseStr(a)"
   ]
  },
  {
   "cell_type": "markdown",
   "id": "59f84661-68e3-41b3-a66c-8cc108737084",
   "metadata": {},
   "source": [
    "## 3.จงเขียนโปรแกรมเพื่อให้ได้ผลลัพธ์ดังต่อไปนี้\n",
    "\n",
    "จงเขียนฟังก์ชันที่ทำหน้าที่สำหรับการตรวจสอบค่าซ้ำของข้อมูลสมาชิกภายในลิสต์ \n",
    "\n",
    "โดยการส่งอาร์กิวเมนต์ที่เป็นลิสต์ไปให้ฟังก์ชันทำงาน และฟังก์ชันจะทำการส่งผลลัพธ์ได้จากการดำเนินการออกมา เช่น\n",
    "\n",
    "Argument List: [1,2,3,3,3,3,4,5]\n",
    "\n",
    "Output List: [1, 2, 3, 4, 5]\n",
    "\n",
    "หรือ \n",
    "\n",
    "Argument List: [‘a’, ‘b’, ‘c’, ‘c’, ‘c’, ‘a’, ‘d’, ‘e’, ‘e’]\n",
    "\n",
    "Output List: [‘a’, ‘b’, ‘c’, ‘d’, ‘e’]\n"
   ]
  },
  {
   "cell_type": "code",
   "execution_count": null,
   "id": "86aa1f52-fb61-44cf-8188-b2a5159e7b27",
   "metadata": {},
   "outputs": [],
   "source": [
    "\"\"\"\n",
    "คำตอบ\n",
    "\"\"\"\n",
    "def remove_duplicates(input_list):\n",
    "    return list(set(input_list))\n",
    "\n",
    "input_list1 = [1, 2, 3, 3, 3, 3, 4, 5]\n",
    "output_list1 = remove_duplicates(input_list1)\n",
    "print(\"Input List:\", input_list1)\n",
    "print(\"Output List:\", output_list1)\n",
    "\n",
    "input_list2 = ['a', 'b', 'c', 'c', 'c', 'a', 'd', 'e', 'e']\n",
    "output_list2 = remove_duplicates(input_list2)\n",
    "print(\"Input List:\", input_list2)\n",
    "print(\"Output List:\", output_list2)\n"
   ]
  },
  {
   "cell_type": "markdown",
   "id": "fa39422e-c6a2-4a4e-ab67-432e04a0da34",
   "metadata": {},
   "source": [
    "## 4.\tจงเขียนโปรแกรมเพื่อให้ได้ผลลัพธ์ดังต่อไปนี้ \n",
    "\n",
    "จงเขียนฟังก์ชันซึ่งรับค่าอาร์กิวเมนต์ที่เป็นจำนวนเต็ม และทำการเช็คว่าค่าที่รับมา   \n",
    "\n",
    "เป็นจำนวนเฉพาะหรือไม่ ถ้าใช่จำนวนเฉพาะให้ส่งคืนค่า True ออกมาและถ้าไม่ให้คืนค่า False"
   ]
  },
  {
   "cell_type": "code",
   "execution_count": 19,
   "id": "32c14341-3cfe-41e2-9fa3-30b6b1493568",
   "metadata": {
    "tags": []
   },
   "outputs": [
    {
     "name": "stdin",
     "output_type": "stream",
     "text": [
      "Enter num: 7\n"
     ]
    },
    {
     "ename": "TypeError",
     "evalue": "'bool' object is not callable",
     "output_type": "error",
     "traceback": [
      "\u001b[1;31m---------------------------------------------------------------------------\u001b[0m",
      "\u001b[1;31mTypeError\u001b[0m                                 Traceback (most recent call last)",
      "Cell \u001b[1;32mIn[19], line 13\u001b[0m\n\u001b[0;32m     11\u001b[0m num \u001b[38;5;241m=\u001b[39m \u001b[38;5;28mint\u001b[39m(\u001b[38;5;28minput\u001b[39m(\u001b[38;5;124m\"\u001b[39m\u001b[38;5;124mEnter num:\u001b[39m\u001b[38;5;124m\"\u001b[39m))\n\u001b[0;32m     12\u001b[0m result \u001b[38;5;241m=\u001b[39m pri_num\n\u001b[1;32m---> 13\u001b[0m \u001b[38;5;28mprint\u001b[39m(pri_num(num))\n",
      "\u001b[1;31mTypeError\u001b[0m: 'bool' object is not callable"
     ]
    }
   ],
   "source": [
    "\"\"\"\n",
    "คำตอบ\n",
    "\"\"\"\n",
    "def  pri_num(num):\n",
    "    if num %2 == 0:\n",
    "        return True\n",
    "    \n",
    "    else:\n",
    "        return False\n",
    "    \n",
    "num = int(input(\"Enter num:\"))\n",
    "result = pri_num\n",
    "print(pri_num(num))"
   ]
  },
  {
   "cell_type": "markdown",
   "id": "1c8ea071-cb4e-4be8-9bad-92b266f62359",
   "metadata": {},
   "source": [
    "## 5. จงเขียนโปรแกรมเพื่อให้ได้ผลลัพธ์ดังต่อไปนี้ \n",
    "\n",
    "จงเขียนฟังก์ชันที่รับอาร์กิวเมนต์ที่เป็นสตริง ที่มีลักษณะเป็นคำผสมซึ่งเชื่อมด้วยเครื่องหมายยัติภังค์ ( - ) เมื่อฟังก์ชันรับค่าอาร์กิวเมนต์มาแล้วจะทำการสลับลำดับของคำใหม่      \n",
    "โดยเรียงลำดับตามตัวอักษร และส่งคืนค่าผลลัพธ์กลับคืนมาดังตัวอย่าง\n",
    "\n",
    "Argument : green-red-yellow-black-white\n",
    "\n",
    "Result : black-green-red-white-yellow\n"
   ]
  },
  {
   "cell_type": "code",
   "execution_count": null,
   "id": "4e63efba-72c7-4385-8115-3debbe26fb63",
   "metadata": {},
   "outputs": [],
   "source": [
    "\"\"\"\n",
    "คำตอบ\n",
    "\"\"\"\n",
    "def swap_and_sort(argument):\n",
    "    words = argument.split(\"-\")\n",
    "    words.sort()\n",
    "    return \"-\".join(words)\n",
    "\n",
    "argument = \"green-red-yellow-black-white\"\n",
    "result = swap_and_sort(argument)\n",
    "print(\"Argument:\", argument)\n",
    "print(\"Result:\",result)"
   ]
  },
  {
   "cell_type": "markdown",
   "id": "ce66514b-efbd-4382-a3c6-7491a4e2518c",
   "metadata": {},
   "source": [
    "## 6.จงเขียนโปรแกรมเพื่อให้ได้ผลลัพธ์ดังต่อไปนี้\n",
    "\n",
    "จงเขียนฟังก์ชันที่ทำการรับสตริงภาษาอังกฤษทางอาร์กิวเมนต์ และทำการนับจำนวนตัวอักษรที่เป็นตัวใหญ่ และตัวเล็ก และทำการแสดงจำนวนออกมา เช่น\n",
    "\n",
    "Input String: 'The quick Brow Fox'\n",
    "\n",
    "Expected Output: \n",
    "\n",
    "No. of Upper case characters: 3\n",
    "\n",
    "No. of Lower case Characters: 12"
   ]
  },
  {
   "cell_type": "code",
   "execution_count": null,
   "id": "82c49108-6b4c-451c-bc2e-25670237fd24",
   "metadata": {},
   "outputs": [],
   "source": [
    "\"\"\"\n",
    "คำตอบ\n",
    "\"\"\"\n",
    "def count_upper_lower(input_string):\n",
    "    upper_count = sum(1 for char in input_string if char .isupper())\n",
    "    \n",
    "    lower_count = sum(1 for char in input_string if char .islower())\n",
    "    \n",
    "    print(\"No.of Upper case characters:\", upper_count)\n",
    "    print(\"No.of Lower case characters:\", lower_count)\n",
    "    \n",
    "input_string = 'The quick Brow Fox'\n",
    "count_upper_lower(input_string)"
   ]
  },
  {
   "cell_type": "markdown",
   "id": "add7e3c8-14c3-4819-adc1-71e32a2def18",
   "metadata": {},
   "source": [
    "## 7.จงเขียนโปรแกรมเพื่อให้ได้ผลลัพธ์ดังต่อไปนี้\n",
    "\n",
    "จงเขียนฟังก์ชันที่รับตัวเลขซึ่งเป็นจำนวนนาที \n",
    "\n",
    "และทำการคำนวณเพื่อแสดงผลในรูปแบบ ชั่วโมง : นาที"
   ]
  },
  {
   "cell_type": "code",
   "execution_count": 6,
   "id": "fb0272d2-f943-4a83-9635-3fab034f1212",
   "metadata": {
    "tags": []
   },
   "outputs": [
    {
     "name": "stdin",
     "output_type": "stream",
     "text": [
      "Enter your number:  350\n"
     ]
    },
    {
     "name": "stdout",
     "output_type": "stream",
     "text": [
      "Converted Time:\n",
      "5:50\n"
     ]
    }
   ],
   "source": [
    "\"\"\"\n",
    "คำตอบ\n",
    "\"\"\"\n",
    "def minutes_to_hours_minutes(minutes):\n",
    "    hours = minutes // 60\n",
    "    remaining_minutes = minutes % 60\n",
    "    \n",
    "    print(f\"{hours}:{remaining_minutes:02d}\")\n",
    "    \n",
    "input_minutes = int(input(\"Enter your number: \"))\n",
    "print(\"Converted Time:\")\n",
    "minutes_to_hours_minutes(input_minutes)"
   ]
  },
  {
   "cell_type": "code",
   "execution_count": null,
   "id": "0e723d55-45ae-4697-9304-63b59e3827ba",
   "metadata": {},
   "outputs": [],
   "source": []
  },
  {
   "cell_type": "code",
   "execution_count": null,
   "id": "dc2a0fa5-4c9c-43a0-b682-c0187d2cc65b",
   "metadata": {},
   "outputs": [],
   "source": [
    "for i in range(1,6):\n",
    "    print('*' * i)"
   ]
  },
  {
   "cell_type": "code",
   "execution_count": null,
   "id": "4ab83d2e-cdcc-43f0-85c0-24b58373a1fd",
   "metadata": {},
   "outputs": [],
   "source": [
    "for i in range(1, 6):\n",
    "    print(' ' * (5 - i) + '*' * i)\n"
   ]
  },
  {
   "cell_type": "code",
   "execution_count": 20,
   "id": "d6515ff1-202f-4ed6-94fa-8cc042804096",
   "metadata": {
    "tags": []
   },
   "outputs": [
    {
     "ename": "TypeError",
     "evalue": "'bool' object is not callable",
     "output_type": "error",
     "traceback": [
      "\u001b[1;31m---------------------------------------------------------------------------\u001b[0m",
      "\u001b[1;31mTypeError\u001b[0m                                 Traceback (most recent call last)",
      "Cell \u001b[1;32mIn[20], line 2\u001b[0m\n\u001b[0;32m      1\u001b[0m \u001b[38;5;28;01mfor\u001b[39;00m i \u001b[38;5;129;01min\u001b[39;00m \u001b[38;5;28mrange\u001b[39m(\u001b[38;5;241m1\u001b[39m, \u001b[38;5;241m6\u001b[39m):\n\u001b[1;32m----> 2\u001b[0m     \u001b[38;5;28mprint\u001b[39m(\u001b[38;5;124m'\u001b[39m\u001b[38;5;124m*\u001b[39m\u001b[38;5;124m'\u001b[39m \u001b[38;5;241m*\u001b[39m (\u001b[38;5;241m6\u001b[39m \u001b[38;5;241m-\u001b[39m i)\u001b[38;5;241m+\u001b[39m \u001b[38;5;124m'\u001b[39m\u001b[38;5;124m'\u001b[39m \u001b[38;5;241m*\u001b[39m i)\n",
      "\u001b[1;31mTypeError\u001b[0m: 'bool' object is not callable"
     ]
    }
   ],
   "source": [
    "for i in range(1, 6):\n",
    "    print('*' * (6 - i)+ '' * i)"
   ]
  },
  {
   "cell_type": "code",
   "execution_count": 21,
   "id": "0f4ff950-cd5d-442f-a16d-a2522eff9c3b",
   "metadata": {
    "tags": []
   },
   "outputs": [
    {
     "ename": "TypeError",
     "evalue": "'bool' object is not callable",
     "output_type": "error",
     "traceback": [
      "\u001b[1;31m---------------------------------------------------------------------------\u001b[0m",
      "\u001b[1;31mTypeError\u001b[0m                                 Traceback (most recent call last)",
      "Cell \u001b[1;32mIn[21], line 2\u001b[0m\n\u001b[0;32m      1\u001b[0m \u001b[38;5;28;01mfor\u001b[39;00m i \u001b[38;5;129;01min\u001b[39;00m \u001b[38;5;28mrange\u001b[39m(\u001b[38;5;241m5\u001b[39m, \u001b[38;5;241m0\u001b[39m, \u001b[38;5;241m-\u001b[39m\u001b[38;5;241m1\u001b[39m):\n\u001b[1;32m----> 2\u001b[0m     \u001b[38;5;28mprint\u001b[39m(\u001b[38;5;124m\"\u001b[39m\u001b[38;5;124m \u001b[39m\u001b[38;5;124m\"\u001b[39m \u001b[38;5;241m*\u001b[39m (\u001b[38;5;241m5\u001b[39m \u001b[38;5;241m-\u001b[39m i), end\u001b[38;5;241m=\u001b[39m\u001b[38;5;124m\"\u001b[39m\u001b[38;5;124m\"\u001b[39m)\n\u001b[0;32m      3\u001b[0m     \u001b[38;5;28mprint\u001b[39m(\u001b[38;5;124m\"\u001b[39m\u001b[38;5;124m* \u001b[39m\u001b[38;5;124m\"\u001b[39m \u001b[38;5;241m*\u001b[39m i)\n",
      "\u001b[1;31mTypeError\u001b[0m: 'bool' object is not callable"
     ]
    }
   ],
   "source": [
    "for i in range(5, 0, -1):\n",
    "    print(\" \" * (5 - i), end=\"\")\n",
    "    print(\"* \" * i)"
   ]
  },
  {
   "cell_type": "code",
   "execution_count": null,
   "id": "492151fc-20c5-4a49-bd69-1bbce0792a10",
   "metadata": {},
   "outputs": [],
   "source": []
  }
 ],
 "metadata": {
  "kernelspec": {
   "display_name": "Python 3 (ipykernel)",
   "language": "python",
   "name": "python3"
  },
  "language_info": {
   "codemirror_mode": {
    "name": "ipython",
    "version": 3
   },
   "file_extension": ".py",
   "mimetype": "text/x-python",
   "name": "python",
   "nbconvert_exporter": "python",
   "pygments_lexer": "ipython3",
   "version": "3.11.5"
  }
 },
 "nbformat": 4,
 "nbformat_minor": 5
}
