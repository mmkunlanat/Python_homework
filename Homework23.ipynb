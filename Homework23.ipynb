{
 "cells": [
  {
   "cell_type": "code",
   "execution_count": null,
   "id": "4636e75a-c980-4f36-840e-0d063fd30916",
   "metadata": {},
   "outputs": [],
   "source": [
    "นางสาวกุลนัฐ  รัตนวัน  6612732138"
   ]
  },
  {
   "cell_type": "code",
   "execution_count": 16,
   "id": "363166bc-0c2c-4e2a-8ea4-85c610d776cc",
   "metadata": {
    "tags": []
   },
   "outputs": [
    {
     "name": "stdout",
     "output_type": "stream",
     "text": [
      "*\n",
      "**\n",
      "***\n",
      "****\n",
      "*****\n"
     ]
    }
   ],
   "source": [
    "'''\n",
    "*\n",
    "**\n",
    "***\n",
    "****\n",
    "*****\n",
    "'''\n",
    "for i in range(1,6):\n",
    "    print('*' * i)"
   ]
  },
  {
   "cell_type": "code",
   "execution_count": 18,
   "id": "9e3f195d-5112-4a3e-bb6a-f93defff2077",
   "metadata": {
    "tags": []
   },
   "outputs": [
    {
     "name": "stdout",
     "output_type": "stream",
     "text": [
      "    *\n",
      "   **\n",
      "  ***\n",
      " ****\n",
      "*****\n"
     ]
    }
   ],
   "source": [
    "\"\"\"\n",
    "    *\n",
    "   **\n",
    "  ***\n",
    " ****\n",
    "*****\n",
    "\"\"\"\n",
    "for i in range(1, 6):\n",
    "    print(' ' * (5 - i) + '*' * i)\n"
   ]
  },
  {
   "cell_type": "code",
   "execution_count": 24,
   "id": "fb592116-57d3-4528-a340-1075b41a708a",
   "metadata": {
    "tags": []
   },
   "outputs": [
    {
     "name": "stdout",
     "output_type": "stream",
     "text": [
      "*****\n",
      "****\n",
      "***\n",
      "**\n",
      "*\n"
     ]
    }
   ],
   "source": [
    "'''\n",
    "*****\n",
    "****\n",
    "***\n",
    "**\n",
    "*\n",
    "'''\n",
    "for i in range(1, 6):\n",
    "    print('*' * (6 - i)+ '' * i)"
   ]
  },
  {
   "cell_type": "code",
   "execution_count": 95,
   "id": "b0414ad3-4478-4cbf-b90e-7e6796d05f2e",
   "metadata": {
    "tags": []
   },
   "outputs": [
    {
     "name": "stdout",
     "output_type": "stream",
     "text": [
      "***** \n",
      "****  \n",
      "***   \n",
      "**    \n",
      "*     \n"
     ]
    }
   ],
   "source": [
    "'''\n",
    "*****\n",
    " ****\n",
    "  ***\n",
    "   **\n",
    "    *\n",
    "'''\n"
   ]
  },
  {
   "cell_type": "code",
   "execution_count": null,
   "id": "4c9832bb-5b2a-4faf-9d34-5c359ab7af61",
   "metadata": {},
   "outputs": [],
   "source": []
  }
 ],
 "metadata": {
  "kernelspec": {
   "display_name": "Python 3 (ipykernel)",
   "language": "python",
   "name": "python3"
  },
  "language_info": {
   "codemirror_mode": {
    "name": "ipython",
    "version": 3
   },
   "file_extension": ".py",
   "mimetype": "text/x-python",
   "name": "python",
   "nbconvert_exporter": "python",
   "pygments_lexer": "ipython3",
   "version": "3.11.5"
  }
 },
 "nbformat": 4,
 "nbformat_minor": 5
}
