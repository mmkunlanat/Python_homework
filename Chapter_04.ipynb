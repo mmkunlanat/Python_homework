{
 "cells": [
  {
   "cell_type": "markdown",
   "metadata": {},
   "source": [
    "# แบบฝึกหัดบทที่ 4 พื้นฐานโปรแกรมไพธอน"
   ]
  },
  {
   "cell_type": "code",
   "execution_count": null,
   "metadata": {},
   "outputs": [],
   "source": [
    "\"\"\" \n",
    "ชื่อ - สกุล - รหัสนักศึกษา\n",
    "นางสาวกุลนัฐ  รัตนวัน  6612732138\n",
    "\"\"\""
   ]
  },
  {
   "cell_type": "markdown",
   "metadata": {},
   "source": [
    "## 1. จงอธิบายความหมายของคำว่า Syntax"
   ]
  },
  {
   "cell_type": "markdown",
   "metadata": {},
   "source": [
    "# คำตอบ\n",
    "หลักไวยากรณ์ คือ ข้อกำหนดในการเขียนโปรแกรมที่ตัวแปรภาษาสามารถประมวลผล และเข้าใจได้\n"
   ]
  },
  {
   "cell_type": "markdown",
   "metadata": {},
   "source": [
    "## 2.จงอธิบายความหมายของคำว่า Semantics"
   ]
  },
  {
   "cell_type": "code",
   "execution_count": null,
   "metadata": {},
   "outputs": [],
   "source": [
    "# คำตอบ\n",
    "Semantics มาจากคeว่า sema. หมายถึง สัญลักษณ์ + semaino หมายถึง การให้ความหมาย รวมกันหมายถึง ความหมายของสัญลักษณ์ คือตัวภาษา ดังนั้น วิชาที่ว่าด้วยการศึกษาความหมายของภาษา หรือ อรรถศาสตร์\n"
   ]
  },
  {
   "cell_type": "markdown",
   "metadata": {},
   "source": [
    "## 3.Identifiers คืออะไร"
   ]
  },
  {
   "cell_type": "code",
   "execution_count": null,
   "metadata": {},
   "outputs": [],
   "source": [
    "# คำตอบ\n",
    "identifier หมายถึง ตัวระบุ มันก็คือ “ชื่อ” ที่ใช้แยกสิ่งต่างๆ เหมือนกับที่เรามีชื่อเพื่อระบุได้ว่าใครเป็นใคร หรือบอกได้ว่าของแต่ละชิ้นเรียกว่าอะไร ใน python ก็คือชื่อที่กำหนดให้กับพวก variable, function หรือ class \n"
   ]
  },
  {
   "cell_type": "markdown",
   "metadata": {},
   "source": [
    "## 4.คำสงวนในภาษาไพธอนคืออะไร และมีทั้งหมดกี่คำ"
   ]
  },
  {
   "cell_type": "code",
   "execution_count": null,
   "metadata": {},
   "outputs": [],
   "source": [
    "# คำตอบ\n",
    "\n",
    "คำสงวน คือชื่อหรือคำที่ภาษา Python (ไพทอน) ไว้ใช้เฉพาะเพื่อเป็นคำสั่ง หรือมีไว้เพื่อเขียนเป็นโครงสร้างของตัวภาษาเอง โดยคำสงวนของ Python จะมีทั้งหมด 31 คำ ดังนี้\n",
    "\n",
    "and\tdel\tfrom\tnot\twhile\tas\telif\n",
    "global\tor\twith\tassert\telse\tif\tpass\n",
    "yield\tbreak\texcept\timport\tprint\tclass\texec\n",
    "in\traise\tcontinue\tfinally\tis\treturn\tdef\n",
    "for\tlambda\ttry"
   ]
  },
  {
   "cell_type": "markdown",
   "metadata": {
    "tags": []
   },
   "source": [
    "## 5.จงเขียนโปรแกรมไพธอนเพื่อรับข้อมูล ที่เป็นชื่อผู้ใช้งานจากแป้นพิมพ์และแสดงออกทางหน้าจอ"
   ]
  },
  {
   "cell_type": "code",
   "execution_count": 1,
   "metadata": {},
   "outputs": [
    {
     "name": "stdin",
     "output_type": "stream",
     "text": [
      "your name Kunlanat  Rattanawan\n"
     ]
    },
    {
     "name": "stdout",
     "output_type": "stream",
     "text": [
      "Kunlanat  Rattanawan\n"
     ]
    }
   ],
   "source": [
    "# พิมพ์โค้ดโปรแกรมด้านล่างนี้\n",
    "a = input(\"your name\")\n",
    "print (a)"
   ]
  },
  {
   "cell_type": "markdown",
   "metadata": {},
   "source": [
    "## 6.จงเขียนโปรแกรมเพื่อแสดงค่าของ pi คือ 3.14159 ออกทางหน้าจอโดยทำการกำหนดรูปแบบในการแสดงผลดังต่อไปนี้\n",
    "\n",
    "- pi = 3\n",
    "- pi = 3.14\n",
    "- pi = 3.1416\n"
   ]
  },
  {
   "cell_type": "code",
   "execution_count": 1,
   "metadata": {},
   "outputs": [
    {
     "name": "stdout",
     "output_type": "stream",
     "text": [
      "pi: 3\n",
      "pi: 3.14\n",
      "pi: 3.1416\n"
     ]
    }
   ],
   "source": [
    "# พิมพ์โค้ดโปรแกรมด้านล่างนี้\n",
    "pi = 3.14159\n",
    "pi = 3\n",
    "print(\"pi: {0:.0f}\".format(pi))\n",
    "pi = 3.14\n",
    "print(\"pi: {0:.2f}\".format(pi))\n",
    "pi = 3.1416\n",
    "print(\"pi: {0:.4f}\".format(pi))\n",
    "\n"
   ]
  },
  {
   "cell_type": "markdown",
   "metadata": {},
   "source": []
  },
  {
   "cell_type": "markdown",
   "metadata": {},
   "source": [
    "## 7.\tจงเขียนโปรแกรมที่แสดงคำว่า \"dog\", \"cat\", \"bat\" ออกทางหน้าจอ โดยกำหนดรูปแบบในการแสดงดังต่อไปนี้"
   ]
  },
  {
   "cell_type": "code",
   "execution_count": null,
   "metadata": {},
   "outputs": [],
   "source": [
    "\"\"\" \n",
    "|dog       |   cat    |       bat| \n",
    "\"\"\""
   ]
  },
  {
   "cell_type": "code",
   "execution_count": 5,
   "metadata": {},
   "outputs": [
    {
     "name": "stdout",
     "output_type": "stream",
     "text": [
      "|dog       |   cat    |       bat|\n"
     ]
    }
   ],
   "source": [
    "# พิมพ์โค้ดโปรแกรมด้านล่างนี้\n",
    "print(\"|{0:<10}|{1:^10}|{2:>10}|\".format(\"dog\",\"cat\",\"bat\"))\n"
   ]
  },
  {
   "cell_type": "markdown",
   "metadata": {},
   "source": [
    "## 8.\tจงเขียนโปรแกรมที่แสดงคำว่า \"dog\", \"cat\", \"bat\" ออกทางหน้าจอ โดยกำหนดรูปแบบในการแสดงดังต่อไปนี้"
   ]
  },
  {
   "cell_type": "code",
   "execution_count": null,
   "metadata": {},
   "outputs": [],
   "source": [
    "\"\"\" \n",
    "|dog*******|***cat****|*******bat| \n",
    "\"\"\""
   ]
  },
  {
   "cell_type": "code",
   "execution_count": 6,
   "metadata": {},
   "outputs": [
    {
     "name": "stdout",
     "output_type": "stream",
     "text": [
      "|dog*******|***cat****|*******bat|\n"
     ]
    }
   ],
   "source": [
    "# พิมพ์โค้ดโปรแกรมด้านล่างนี้\n",
    "print(\"|{0:*<10}|{1:*^10}|{2:*>10}|\".format(\"dog\",\"cat\",\"bat\"))\n"
   ]
  },
  {
   "cell_type": "code",
   "execution_count": null,
   "metadata": {},
   "outputs": [],
   "source": []
  }
 ],
 "metadata": {
  "interpreter": {
   "hash": "40d3a090f54c6569ab1632332b64b2c03c39dcf918b08424e98f38b5ae0af88f"
  },
  "kernelspec": {
   "display_name": "Python 3 (ipykernel)",
   "language": "python",
   "name": "python3"
  },
  "language_info": {
   "codemirror_mode": {
    "name": "ipython",
    "version": 3
   },
   "file_extension": ".py",
   "mimetype": "text/x-python",
   "name": "python",
   "nbconvert_exporter": "python",
   "pygments_lexer": "ipython3",
   "version": "3.11.5"
  }
 },
 "nbformat": 4,
 "nbformat_minor": 4
}
