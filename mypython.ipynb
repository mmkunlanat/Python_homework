{
 "cells": [
  {
   "cell_type": "code",
   "execution_count": null,
   "id": "9222137c-698e-4187-add4-3fb92f8dcc9f",
   "metadata": {},
   "outputs": [],
   "source": [
    "นางสาวกุลนัฐ  รัตนวัน 6612732138"
   ]
  }
 ],
 "metadata": {
  "kernelspec": {
   "display_name": "Python 3 (ipykernel)",
   "language": "python",
   "name": "python3"
  },
  "language_info": {
   "codemirror_mode": {
    "name": "ipython",
    "version": 3
   },
   "file_extension": ".py",
   "mimetype": "text/x-python",
   "name": "python",
   "nbconvert_exporter": "python",
   "pygments_lexer": "ipython3",
   "version": "3.11.5"
  }
 },
 "nbformat": 4,
 "nbformat_minor": 5
}
